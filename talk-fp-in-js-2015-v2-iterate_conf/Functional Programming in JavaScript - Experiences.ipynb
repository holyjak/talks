{
 "cells": [
  {
   "cell_type": "markdown",
   "metadata": {
    "slideshow": {
     "slide_type": "slide"
    }
   },
   "source": [
    "# Functional Programming in JavaScript - Experiences\n",
    "\n",
    "<p class=\"biggg\">Jakub Holý - Iterate conference 8/2015</p>"
   ]
  },
  {
   "cell_type": "markdown",
   "metadata": {
    "slideshow": {
     "slide_type": "slide"
    }
   },
   "source": [
    "## Survey:\n",
    "\n",
    "* JavaScript devs?\n",
    "* Lo-dash / Underscore / etc.?\n",
    "* Immutable.js etc.?\n",
    "* React?"
   ]
  },
  {
   "cell_type": "markdown",
   "metadata": {
    "slideshow": {
     "slide_type": "slide"
    }
   },
   "source": [
    "# 1. FP: What & Why?"
   ]
  },
  {
   "cell_type": "markdown",
   "metadata": {
    "slideshow": {
     "slide_type": "subslide"
    }
   },
   "source": [
    "```javascript\n",
    "var localIp = _.chain(os.networkInterfaces())\n",
    "   .values()\n",
    "   .flatten()\n",
    "   .filter(_.partial(supportsProtocol, \"IPv4\"))\n",
    "   .map(\"address\")\n",
    "   .first()\n",
    "   .value();\n",
    "```"
   ]
  },
  {
   "cell_type": "markdown",
   "metadata": {
    "collapsed": true,
    "slideshow": {
     "slide_type": "notes"
    }
   },
   "source": [
    "### NOTES\n",
    "\n",
    "This is the embodiment of FP to me - similar to the picture of a person with skies and a cup of coffee waiting for a metro is the symbol of Oslo for me, even though both contain much more than this."
   ]
  },
  {
   "cell_type": "markdown",
   "metadata": {
    "slideshow": {
     "slide_type": "subslide"
    }
   },
   "source": [
    "<p style=\"font-size: 6rem\">```\n",
    "Program: output = f(input)\n",
    "```</p>\n",
    "\n",
    " * Side-effects minimized and limited (<=> immutable data)\n",
    " * Focus on data transformations\n",
    " * (WHAT vs. HOW)\n",
    " \n",
    "=> **SIMPLICITY**"
   ]
  },
  {
   "cell_type": "markdown",
   "metadata": {
    "slideshow": {
     "slide_type": "subslide"
    }
   },
   "source": [
    "<p style=\"transform: rotate(180deg); text-align: right;font-size: xx-large\">⇧</p>"
   ]
  },
  {
   "cell_type": "markdown",
   "metadata": {
    "slideshow": {
     "slide_type": "-"
    }
   },
   "source": [
    "1. Easier to understand and test\n",
    "   * and cheaper b/c `costs = f exp(complexity)`\n",
    "2. Referential transparency enables optimizations\n",
    "   * memoize, parallelization, ...\n",
    "3. Laziness, ∞ => only do what's needed, simpler code\n",
    "4. Concurrency\n",
    "5. Expressivity: complex transformations in few LoC"
   ]
  },
  {
   "cell_type": "markdown",
   "metadata": {
    "slideshow": {
     "slide_type": "notes"
    }
   },
   "source": [
    "#### NOTES\n",
    "\n",
    "* Referential transparency = fn can be replaced with its value without changing the behavior <> must be pure\n",
    "* Pure fn - no side-effects, depends only on its inputs\n",
    "* Lazy evaluation - eval sub-expressions only when you need the value; ex.: and(false, expensiveCall()) - expensiveCall will not be called"
   ]
  },
  {
   "cell_type": "markdown",
   "metadata": {
    "slideshow": {
     "slide_type": "subslide"
    }
   },
   "source": [
    "### What to expect from an FP lib\n",
    "\n",
    "1. Functions: HOF, composing (comp), deriving (partial), running (iterate) fns\n",
    "2. Data: Powerful fns for transformation of data structures"
   ]
  },
  {
   "cell_type": "markdown",
   "metadata": {
    "slideshow": {
     "slide_type": "slide"
    }
   },
   "source": [
    "# 2. FP library: lodash-fp"
   ]
  },
  {
   "cell_type": "code",
   "execution_count": 19,
   "metadata": {
    "collapsed": false,
    "scrolled": true,
    "slideshow": {
     "slide_type": "skip"
    }
   },
   "outputs": [
    {
     "data": {
      "text/plain": [
       "undefined"
      ]
     },
     "execution_count": 19,
     "metadata": {},
     "output_type": "execute_result"
    }
   ],
   "source": [
    "var _ = require('lodash-fp');\n",
    "var lodash = require('lodash');"
   ]
  },
  {
   "cell_type": "markdown",
   "metadata": {
    "slideshow": {
     "slide_type": "subslide"
    }
   },
   "source": [
    "## What you get\n",
    "\n",
    "1. Functions: `chain, partial(Right), curry, spread, memoize, ...`\n",
    "2. Data: `map, filter, reject, reduce, groupBy, mapValues, zip, ...`\n",
    "3. Utilities for objects, sets, strings; `method, is*, ...`"
   ]
  },
  {
   "cell_type": "markdown",
   "metadata": {
    "slideshow": {
     "slide_type": "subslide"
    }
   },
   "source": [
    "## Lodash vs. lodash-fp\n",
    "\n",
    "Data last, curryied =>"
   ]
  },
  {
   "cell_type": "code",
   "execution_count": 20,
   "metadata": {
    "collapsed": false
   },
   "outputs": [
    {
     "data": {
      "text/plain": [
       "[ 3, 4 ]"
      ]
     },
     "execution_count": 20,
     "metadata": {},
     "output_type": "execute_result"
    }
   ],
   "source": [
    "lodash.filter([1,2,3,4], function(num) { return _.gte(3, num); })"
   ]
  },
  {
   "cell_type": "code",
   "execution_count": 6,
   "metadata": {
    "collapsed": false,
    "slideshow": {
     "slide_type": "fragment"
    }
   },
   "outputs": [
    {
     "data": {
      "text/plain": [
       "[ 3, 4 ]"
      ]
     },
     "execution_count": 6,
     "metadata": {},
     "output_type": "execute_result"
    }
   ],
   "source": [
    "_.filter( _.gte(3) )\n",
    "        ( [1,2,3,4] )"
   ]
  },
  {
   "cell_type": "code",
   "execution_count": 21,
   "metadata": {
    "collapsed": false,
    "slideshow": {
     "slide_type": "subslide"
    }
   },
   "outputs": [
    {
     "data": {
      "text/plain": [
       "true"
      ]
     },
     "execution_count": 21,
     "metadata": {},
     "output_type": "execute_result"
    }
   ],
   "source": [
    "// Find obj with variations ∋ key \"myID\"\n",
    "(lodash.flow(\n",
    "     _.partialRight(_.result, \"variations\")  // -> {myID: true}\n",
    "   , _.keys                                  // -> [myID]\n",
    "   , _.partialRight(_.includes, \"myID\")      // -> true \n",
    "))\n",
    "({variations: {myID: true}})"
   ]
  },
  {
   "cell_type": "markdown",
   "metadata": {},
   "source": [
    "<p style=\"transform: rotate(180deg); text-align: right;font-size: xx-large\">⇧</p>"
   ]
  },
  {
   "cell_type": "code",
   "execution_count": 12,
   "metadata": {
    "collapsed": false
   },
   "outputs": [
    {
     "data": {
      "text/plain": [
       "true"
      ]
     },
     "execution_count": 12,
     "metadata": {},
     "output_type": "execute_result"
    }
   ],
   "source": [
    "(_.flow(\n",
    "  _.result(\"variations\"),\n",
    "  _.keys,\n",
    "  _.includes(\"myID\")))\n",
    "({variations: {myID: true}})"
   ]
  },
  {
   "cell_type": "markdown",
   "metadata": {
    "slideshow": {
     "slide_type": "subslide"
    }
   },
   "source": [
    "### SKIP: What we miss in lodash(-fp)\n",
    "\n",
    "* Our own predicates other than `==`: `filter({age: _.partialRight(_.gt,18)}) // _.flow(_.result('age'),_.gt(18))`\n",
    "* Immutable data to avoid have ugly nested `forEach` (`_.map` is cumbersome)\n",
    "* Walk the tree and replace `{fields: obj, ..}` with `obj`\n",
    "* `partition-with`, nested `map` (`employees.children`)\n",
    "* Lookup (combine data from 2+ sources)\n",
    "* Challenge: Split into rows, each of width 12: `[{width:12},{width:6},{width:6},.]`"
   ]
  },
  {
   "cell_type": "markdown",
   "metadata": {
    "slideshow": {
     "slide_type": "subslide"
    }
   },
   "source": [
    "## The dark side of lodash-fp\n",
    "\n",
    "* No vararg fns, some split (uniq + uniqBy) => lost functionality\n",
    "* => You need `lodash` & `lodash-fp` (size?!).\n",
    "\n",
    "See [github/jakubholynet/lodash-fp_issues/.../lodash-fp_issues.ipynb](https://github.com/jakubholynet/lodash-fp_issues/blob/master/lodash-fp_issues.ipynb)."
   ]
  },
  {
   "cell_type": "markdown",
   "metadata": {},
   "source": [
    "#### NOTES\n",
    "\n",
    "In my experience you need ot keep lodash for the cases where the func isn't available in lodash-fp.\n",
    "Not sure if including both increases the client-side size / how much."
   ]
  },
  {
   "cell_type": "markdown",
   "metadata": {},
   "source": [
    "Examples:\n",
    "\n",
    "* `_.assign({}, {a:1}, {b:2})` is wrong - max 2\n",
    "* `_.result` currently doesn't support a default value\n",
    "* `zipObject([key, val, key2, val2, ..])` doesn't work, only `zipObject(keys, vals)`\n",
    "* Iteratees such as `map(Values)`, `find` get only value, not the key argument\n",
    "* Max does not accept the property argument: `_nofp.max([{n: 3},{n: 4}], \\\"n\\\") => { n: 4 }`"
   ]
  },
  {
   "cell_type": "markdown",
   "metadata": {
    "slideshow": {
     "slide_type": "slide"
    }
   },
   "source": [
    "# 3. Immutable data"
   ]
  },
  {
   "cell_type": "markdown",
   "metadata": {
    "slideshow": {
     "slide_type": "subslide"
    }
   },
   "source": [
    "## Contestants\n",
    "\n",
    "Immutable.js - Icepick - seamless-immutable\n",
    "\n",
    "|                    | Size     | Maturity  |  API  | Plain JS?|\n",
    "|--------------------|:--------:|:---------:|:-----:|:--------:|\n",
    "| Immutable.js       |   56 kB  |    ★★★  | ★★★ |          |\n",
    "| seamless-immutable |   3 kB   |     ★★   |  ★☆ |     ★    |\n",
    "| icepick            |   3 kB   |     ★    |  ★★  |     ★   |\n",
    "\n",
    "// `React.addon.update`"
   ]
  },
  {
   "cell_type": "markdown",
   "metadata": {
    "slideshow": {
     "slide_type": "subslide"
    }
   },
   "source": [
    "### Immutable.js\n",
    "\n",
    "```javascript\n",
    "Immutable([1,2,3,4,5])\n",
    "  .skip(2)\n",
    "  .map(n => -n)\n",
    "  .filter(n => n % 2 === 0)\n",
    "  .take(2).reduce((r, n) => r * n, 1);\n",
    "```\n",
    "\n",
    "* New data structures and API (`map.get(\"prop\")`)\n",
    "* ES3 / ES6\n",
    "* lazy Seq, Set, Map, Ordered(Set|Map), Range, Record\n",
    "* push, set, unshift,..; getIn, setIn, updateIn; `withMutations`\n",
    "* Interop.: `toJS()`"
   ]
  },
  {
   "cell_type": "markdown",
   "metadata": {
    "slideshow": {
     "slide_type": "subslide"
    }
   },
   "source": [
    "## seamless-immutable\n",
    "\n",
    "```javascript\n",
    "Immutable([1,2,3]).concat([4]).map(double).filter(odd);\n",
    "```\n",
    "\n",
    "* Plain JS + `Object.freeze` (deep); ES5 (IE9+)\n",
    "* Modifies existing methods (map, filter, ..) => worse interop\n",
    "* Mutating methods throw an `ImmutableError` (`push`, `=`, etc.)\n",
    "  <> map, filter, concat\n",
    "* Minimalistic API: A: `flatMap, asObject, asMutable`; O: `merge, without, asMutable`\n",
    "* Prod x dev build (freeze, exceptions)\n",
    "* **∅ <del>updateIn, setIn</del>**\n"
   ]
  },
  {
   "cell_type": "markdown",
   "metadata": {
    "slideshow": {
     "slide_type": "subslide"
    }
   },
   "source": [
    "## icepick\n",
    "\n",
    "```javascript\n",
    "i.reverse(i.push(i.freeze([1,2,3], 4))\n",
    "```\n",
    "\n",
    "* Plain JS + `Object.freeze` (deep)\n",
    "* A library of functions\n",
    "* Richer API than s-i: assoc*, dissoc, get*, update*; push, splice, ..\n",
    "* assign, merge,\n",
    "* filter, map\n",
    "* **∅ <del>reduce, map etc. over objects; chaining</del>**\n",
    "* **one-man show**\n"
   ]
  },
  {
   "cell_type": "markdown",
   "metadata": {
    "slideshow": {
     "slide_type": "subslide"
    }
   },
   "source": [
    "### Immutable data conclusions\n",
    "\n",
    "1. Use Immutable.js if you don't mind the size and don't need lot of interop (`to/fromJS`)\n",
    "2. Use seamless-immutable + lodash-fp and write own convenience fn `updateIn` etc.\n",
    "3. Or use icepick + lodash-fp if adventuresome or really need a particular [nested] element change (and write your `chain`)"
   ]
  },
  {
   "cell_type": "markdown",
   "metadata": {
    "slideshow": {
     "slide_type": "subslide"
    }
   },
   "source": [
    "## Immutable data & performance\n",
    "\n",
    "Random benchmarks\n",
    "\n",
    "* Immutable.js: Mutable ~900 ms | Immutable.js ×3 | I+shouldComponentUpdate ×0.7\n",
    "* Seamless-immutable: Mutable: **TODO** | prod 800 ms | dev ×2-3\n",
    "\n",
    "*Beware: The only benchmark that counts is yours, in your prod env.*"
   ]
  },
  {
   "cell_type": "markdown",
   "metadata": {
    "slideshow": {
     "slide_type": "slide"
    }
   },
   "source": [
    "# 4. Conclusion 1: FP possible but painful; worth it?\n",
    "\n",
    "1. Libraries quite OK but rough edges\n",
    "   (other than `lodash-fp`?)\n",
    "2. Immutable data: sub-par and/or large size & inconveniences"
   ]
  },
  {
   "cell_type": "markdown",
   "metadata": {
    "slideshow": {
     "slide_type": "slide"
    }
   },
   "source": [
    "<table><tr><td>\n",
    "You can make JavaScript fly...\n",
    "<img src=\"flying-car.jpg\" style=\"width: 500;height: 300px\"/>\n",
    "</td><td>\n",
    "But why not to use something *designed* for flying?\n",
    "<img src=\"plane-futuristic.jpg\" style=\"width: 500;height: 300px\"/>\n",
    "</td></tr></table>\n"
   ]
  },
  {
   "cell_type": "markdown",
   "metadata": {
    "slideshow": {
     "slide_type": "slide"
    }
   },
   "source": [
    "# Conclusion 2: Use ClojureScript\n",
    "\n",
    "Why? Top-notch data functions and immutable data, core-async, macros, great design.\n",
    "\n",
    "What about the bytes?\n",
    "\n",
    "\n",
    "\n",
    "| JS: Nettbutikk | Cljs: Startshop|\n",
    "|--------------------|--------|\n",
    "| 300 kB      |   300 kB |\n",
    "| React, router, lodash,.. |   Om, React, .. |\n",
    "| No immutable, ... | Immutable, core-async, ..|\n",
    "| (little own code) | (little own code) |\n",
    "\n",
    "What about debugging? REPL! (And I live w/o debugger in JS anyway)\n"
   ]
  },
  {
   "cell_type": "markdown",
   "metadata": {
    "slideshow": {
     "slide_type": "slide"
    }
   },
   "source": [
    "# Resources\n",
    "\n",
    "* [The Power and Practicalities of Immutability](https://vimeo.com/131635253) - Venkat Subramaniam at NDC Oslo 2015\n",
    "* [Immutable JavaScript](https://vimeo.com/128790457) - Christian Johansen at Web Rebels 2015 (Immutable.js & Minesweeper)\n",
    "* [React: Rethinking best practices](https://www.youtube.com/watch?v=DgVS-zXgMTk) - Pete Hunt at JSConf 2013"
   ]
  }
 ],
 "metadata": {
  "celltoolbar": "Slideshow",
  "kernelspec": {
   "display_name": "Javascript (Node.js)",
   "language": "javascript",
   "name": "javascript"
  },
  "language_info": {
   "file_extension": "js",
   "mimetype": "application/javascript",
   "name": "javascript",
   "version": "0.10.40"
  }
 },
 "nbformat": 4,
 "nbformat_minor": 0
}
